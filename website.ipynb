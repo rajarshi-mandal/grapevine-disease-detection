{
  "nbformat": 4,
  "nbformat_minor": 0,
  "metadata": {
    "colab": {
      "provenance": [],
      "gpuType": "T4"
    },
    "kernelspec": {
      "name": "python3",
      "display_name": "Python 3"
    },
    "language_info": {
      "name": "python"
    }
  },
  "cells": [
    {
      "cell_type": "code",
      "source": [
        "# Installing streamlit and accessing the ResNet50 model's weights\n",
        "!pip -q install streamlit\n",
        "!wget /content/ResNet50_weights.hdf5"
      ],
      "metadata": {
        "id": "ZKGT4MZdfv5Y"
      },
      "execution_count": null,
      "outputs": []
    },
    {
      "cell_type": "code",
      "execution_count": null,
      "metadata": {
        "id": "tS-_MOLOeDmT"
      },
      "outputs": [],
      "source": [
        "# Installing localtunnel\n",
        "!npm install localtunnel"
      ]
    },
    {
      "cell_type": "code",
      "source": [
        "# Writing a python file\n",
        "%%writefile app.py\n",
        "import streamlit as st\n",
        "import tensorflow as tf\n",
        "import numpy as np\n",
        "import matplotlib.pyplot as plt\n",
        "import cv2\n",
        "import pandas as pd\n",
        "import seaborn as sns\n",
        "\n",
        "classes = ['Black Rot', 'ESCA', 'Leaf Blight', 'Healthy']\n",
        "st.write(\"Grapevine Disease Detection\")\n",
        "st.write(\"This model can classify your image as Black Rot, ESCA, Leaf Blight, or Healthy.\")\n",
        "model = tf.keras.models.load_model(\"/content/ResNet50_weights.hdf5\")\n",
        "\n",
        "f = st.file_uploader(\"Upload Image\")\n",
        "if f is not None:\n",
        "  image = np.asarray(plt.imread(f), dtype=np.uint8)\n",
        "  resized = cv2.resize(image, (224, 224))\n",
        "  model_input = np.expand_dims(resized,0)\n",
        "\n",
        "  probabilities = model.predict(model_input).flatten()\n",
        "  probability = str(round(probabilities.max(),3))[:6]\n",
        "  if probability == '1.0':\n",
        "    probability = '1.000'\n",
        "  prediction = classes[probabilities.argmax()]\n",
        "  if prediction == 'Healthy':\n",
        "    st.write(f\"Your grapevine plant is predicted to be healthy with a probability of {probability}!\")\n",
        "  else:\n",
        "    st.write(f\"Uh oh! Your grapevine plant has been diagonsed with having {prediction} with a probability of {probability}.\")\n",
        "\n",
        "  df = pd.DataFrame()\n",
        "  df[\"Disease\"] = classes\n",
        "  df[\"Probability\"] = probabilities\n",
        "  plt.figure(figsize=(8,6), dpi=96)\n",
        "  plt.title(\"Probability of the Grapevine Plant Being Infected With Certain Diseases\")\n",
        "  st.bar_chart(data=df, x='Disease', y='Probability', width=700, height=480, use_container_width=False)\n",
        "  plt.show()"
      ],
      "metadata": {
        "id": "pO-185pX22Wz"
      },
      "execution_count": null,
      "outputs": []
    },
    {
      "cell_type": "code",
      "source": [
        "# Running the python file using streamlit\n",
        "!streamlit run app.py &>/content/logs.txt &"
      ],
      "metadata": {
        "id": "0TKJ7wQ_3LqV"
      },
      "execution_count": null,
      "outputs": []
    },
    {
      "cell_type": "code",
      "source": [
        "# Accessing remote IP\n",
        "!curl ipv4.icanhazip.com"
      ],
      "metadata": {
        "id": "Ta3LSswp3MPD"
      },
      "execution_count": null,
      "outputs": []
    },
    {
      "cell_type": "code",
      "source": [
        "# Connecting to port 8501\n",
        "!npx localtunnel --port 8501"
      ],
      "metadata": {
        "id": "mOgax5Zb3MFj"
      },
      "execution_count": null,
      "outputs": []
    }
  ]
}