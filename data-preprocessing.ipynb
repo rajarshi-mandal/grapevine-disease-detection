{
 "cells": [
  {
   "cell_type": "markdown",
   "metadata": {},
   "source": [
    "# Library Imports"
   ]
  },
  {
   "cell_type": "code",
   "execution_count": null,
   "metadata": {},
   "outputs": [],
   "source": [
    "import numpy as np # Linear algebra\n",
    "import pandas as pd # Tabular data\n",
    "import matplotlib.pyplot as plt # Data visualization\n",
    "import seaborn as sns # High-level data visualization\n",
    "import pathlib # File paths\n",
    "import os # Operating system\n",
    "from tensorflow.keras.preprocessing.image import ImageDataGenerator # Object containing data"
   ]
  },
  {
   "cell_type": "markdown",
   "metadata": {},
   "source": [
    "# Grapes: A Sustainable Food Source"
   ]
  },
  {
   "cell_type": "code",
   "execution_count": null,
   "metadata": {},
   "outputs": [],
   "source": [
    "# Reading data\n",
    "df = pd.read_csv('/kaggle/input/environment-impact-of-food-production/Food_Production.csv')"
   ]
  },
  {
   "cell_type": "code",
   "execution_count": null,
   "metadata": {},
   "outputs": [],
   "source": [
    "# Renaming columns for clarity and conciseness\n",
    "df.rename(columns = {'Food product':'Food Product',\n",
    "                     'Land use per 1000kcal (m² per 1000kcal)':'Land Use (m² per 1000 kcal)',\n",
    "                     'Greenhouse gas emissions per 1000kcal (kgCO₂eq per 1000kcal)':'Greenhouse Gas Emissions per 1000 kcal',\n",
    "                     'Eutrophying emissions per 1000kcal (gPO₄eq per 1000kcal)':'Eutrophication Emissions per 1000 kcal'},\n",
    "          inplace=True)"
   ]
  },
  {
   "cell_type": "code",
   "execution_count": null,
   "metadata": {},
   "outputs": [],
   "source": [
    "# Dropping missing values and sorting by land use, greenhouse gas emissions, and eutrophication emissions\n",
    "land_df= df.dropna().sort_values(by= 'Land Use (m² per 1000 kcal)', ascending=False)[['Food Product','Land Use (m² per 1000 kcal)']]\n",
    "gas_df= df.dropna().sort_values(by= 'Greenhouse Gas Emissions per 1000 kcal', ascending=False)[['Food Product','Greenhouse Gas Emissions per 1000 kcal']]\n",
    "eutro_df= df.dropna().sort_values(by= 'Eutrophication Emissions per 1000 kcal', ascending=False)[['Food Product','Eutrophication Emissions per 1000 kcal']]"
   ]
  },
  {
   "cell_type": "code",
   "execution_count": null,
   "metadata": {},
   "outputs": [],
   "source": [
    "# Setting figsize and dpi for the plot\n",
    "plt.figure(figsize=(6,4.5), dpi=96)\n",
    "# Adding the title\n",
    "plt.title('Land Use for Common Foods')\n",
    "# Plotting the barplot\n",
    "sns.barplot(data=land_df, x='Land Use (m² per 1000 kcal)', y='Food Product', orient='h')\n",
    "# Displaying the plot\n",
    "plt.show()"
   ]
  },
  {
   "cell_type": "code",
   "execution_count": null,
   "metadata": {},
   "outputs": [],
   "source": [
    "# Setting figsize and dpi for the plot\n",
    "plt.figure(figsize=(6,4.5), dpi=96)\n",
    "# Adding the title\n",
    "plt.title('Greenhouse Gas Emissions for Common Foods')\n",
    "# Plotting the barplot\n",
    "sns.barplot(data=gas_df, x='Greenhouse Gas Emissions per 1000 kcal', y='Food Product', orient='h')\n",
    "# Displaying the plot\n",
    "plt.show()"
   ]
  },
  {
   "cell_type": "code",
   "execution_count": null,
   "metadata": {},
   "outputs": [],
   "source": [
    "# Setting figsize and dpi for the plot\n",
    "plt.figure(figsize=(6,4.5), dpi=96)\n",
    "# Adding the title\n",
    "plt.title('Eutrophication Emissions for Common Foods')\n",
    "# Plotting the barplot\n",
    "sns.barplot(data=eutro_df, x='Eutrophication Emissions per 1000 kcal', y='Food Product', orient='h')\n",
    "# Displaying the plot\n",
    "plt.show()"
   ]
  },
  {
   "cell_type": "markdown",
   "metadata": {},
   "source": [
    "# Experimental Data Analysis"
   ]
  },
  {
   "cell_type": "code",
   "execution_count": null,
   "metadata": {},
   "outputs": [],
   "source": [
    "# Creating a path for the input directory\n",
    "data_dir = pathlib.Path('/kaggle/input/grape-disease/grape_dataset')\n",
    "# Adding 'train' and 'test' to the path\n",
    "train_dir = data_dir / 'train'\n",
    "test_dir = data_dir / 'test'"
   ]
  },
  {
   "cell_type": "code",
   "execution_count": null,
   "metadata": {},
   "outputs": [],
   "source": [
    "# Adding the four diseases to the path\n",
    "train_black_rot_dir = train_dir / 'Grape___Black_rot'\n",
    "train_esca_dir = train_dir / 'Grape___Esca_(Black_Measles)'\n",
    "train_leaf_blight_dir = train_dir / 'Grape___Leaf_blight_(Isariopsis_Leaf_Spot)'\n",
    "train_healthy_dir = train_dir / 'Grape___healthy'"
   ]
  },
  {
   "cell_type": "code",
   "execution_count": null,
   "metadata": {},
   "outputs": [],
   "source": [
    "# Selecting all JPG files\n",
    "black_rot_images = train_black_rot_dir.glob('*.JPG')\n",
    "esca_images = train_esca_dir.glob('*.JPG')\n",
    "leaf_blight_images = train_leaf_blight_dir.glob('*.JPG')\n",
    "healthy_images = train_healthy_dir.glob('*.JPG')"
   ]
  },
  {
   "cell_type": "code",
   "execution_count": null,
   "metadata": {},
   "outputs": [],
   "source": [
    "# A list that will contain the images\n",
    "train_data = []\n",
    "# Adding the images to train_data\n",
    "for img in black_rot_images:\n",
    "    train_data.append((img,'Black Rot'))\n",
    "for img in esca_images:\n",
    "    train_data.append((img,'ESCA'))\n",
    "for img in leaf_blight_images:\n",
    "    train_data.append((img,'Leaf Blight'))\n",
    "for img in healthy_images:\n",
    "    train_data.append((img,'Healthy'))\n",
    "# Converting the list to a dataframe\n",
    "train_data = pd.DataFrame(train_data, columns=['image', 'label'],index=None)\n",
    "# Getting rid of the indices\n",
    "train_data = train_data.sample(frac=1.).reset_index(drop=True)\n",
    "# Getting the first 5 rows of the data\n",
    "train_data.head()"
   ]
  },
  {
   "cell_type": "code",
   "execution_count": null,
   "metadata": {},
   "outputs": [],
   "source": [
    "# Counting number of diseases\n",
    "disease_count = train_data['label'].value_counts()\n",
    "# Printing disease counts\n",
    "print(disease_count, end='\\n\\n')\n",
    "# Calculating total number of images\n",
    "total_num_images = disease_count[0] + disease_count[1] + disease_count[2] + disease_count[3]\n",
    "# Printing total number of images\n",
    "print(f'There are a total of {total_num_images} images of Grapevine Leaves.')"
   ]
  },
  {
   "cell_type": "code",
   "execution_count": null,
   "metadata": {},
   "outputs": [],
   "source": [
    "# Setting figsize and dpi for the plot\n",
    "plt.figure(figsize=(6,4.5), dpi=96)\n",
    "# Plotting the barplot\n",
    "sns.barplot(x=disease_count.index, y=disease_count.values, saturation=1)\n",
    "# Adding the title\n",
    "plt.title('Number of Images per Disease')\n",
    "# Adding the x and y labels\n",
    "plt.xlabel('Disease Type')\n",
    "plt.ylabel('Count')\n",
    "# Displaying the plot\n",
    "plt.show()"
   ]
  },
  {
   "cell_type": "code",
   "execution_count": null,
   "metadata": {},
   "outputs": [],
   "source": [
    "# Setting figsize and dpi for the plot\n",
    "plt.figure(figsize=(6,6), dpi=96)\n",
    "# Adding the title\n",
    "plt.title('Image Distribution across Diseases', y=0.93)\n",
    "# Plotting the pie chart\n",
    "plt.pie(x=disease_count,\n",
    "        labels=disease_count.index,\n",
    "        autopct='%1.1f%%',\n",
    "        startangle=90,\n",
    "        counterclock=False,\n",
    "        wedgeprops={'edgecolor':'black','linewidth':2})\n",
    "# Displaying the plot\n",
    "plt.show();"
   ]
  },
  {
   "cell_type": "code",
   "execution_count": null,
   "metadata": {},
   "outputs": [],
   "source": [
    "# Initializing seed and n_images\n",
    "seed = 1234\n",
    "n_images = 8\n",
    "# Getting 8 images for each disease\n",
    "black_rot_samples = (train_data[train_data['label']=='Black Rot']['image'].iloc[seed:seed+n_images]).tolist()\n",
    "esca_samples = (train_data[train_data['label']=='ESCA']['image'].iloc[seed:seed+n_images]).tolist()\n",
    "leaf_blight_samples = (train_data[train_data['label']=='Leaf Blight']['image'].iloc[seed:seed+n_images]).tolist()\n",
    "healthy_samples = (train_data[train_data['label']=='Healthy']['image'].iloc[seed:seed+n_images]).tolist()\n",
    "# Concatenating the samples\n",
    "samples = black_rot_samples + esca_samples + leaf_blight_samples + healthy_samples"
   ]
  },
  {
   "cell_type": "code",
   "execution_count": null,
   "metadata": {},
   "outputs": [],
   "source": [
    "# Initializing subplots\n",
    "fig, ax = plt.subplots(nrows=4,ncols=n_images,figsize=(7.5,4.5), dpi=96)\n",
    "# Iterating over total number of images\n",
    "for i in range(n_images*4):\n",
    "    # Getting the image's pixel values\n",
    "    img = plt.imread(samples[i])\n",
    "    # Plotting the image\n",
    "    ax[i//n_images, i%n_images].imshow(img, cmap='gray')\n",
    "    # Adding a title\n",
    "    if i<n_images:\n",
    "        ax[i//n_images, i%n_images].set_title(\"Black Rot\", fontsize=9)\n",
    "    elif i<n_images*2:\n",
    "        ax[i//n_images, i%n_images].set_title(\"ESCA\", fontsize=10)\n",
    "    elif i<n_images*3:\n",
    "        ax[i//n_images, i%n_images].set_title(\"Leaf Blight\", fontsize=7.5)\n",
    "    else:\n",
    "        ax[i//n_images, i%n_images].set_title(\"Healthy\", fontsize=10.5)\n",
    "    # Getting rid of the axes\n",
    "    ax[i//n_images, i%n_images].axis('off')\n",
    "    # Setting the aspect ratio to 1\n",
    "    ax[i//n_images, i%n_images].set_aspect(aspect=1)\n",
    "# Displaying the plot\n",
    "plt.show()"
   ]
  },
  {
   "cell_type": "markdown",
   "metadata": {},
   "source": [
    "# Data Augmentation"
   ]
  },
  {
   "cell_type": "code",
   "execution_count": null,
   "metadata": {},
   "outputs": [],
   "source": [
    "augment_data = False\n",
    "# Dividing pixel values by 255\n",
    "def normalize(img):\n",
    "    return img/255\n",
    "# Creating the augmented directory\n",
    "os.makedirs('/kaggle/working/augmented')"
   ]
  },
  {
   "cell_type": "code",
   "execution_count": null,
   "metadata": {},
   "outputs": [],
   "source": [
    "# Creating separate directories for each disease\n",
    "os.makedirs('/kaggle/working/augmented/Black Rot')\n",
    "os.makedirs('/kaggle/working/augmented/ESCA')\n",
    "os.makedirs('/kaggle/working/augmented/Leaf Blight')\n",
    "os.makedirs('/kaggle/working/augmented/Healthy')"
   ]
  },
  {
   "cell_type": "code",
   "execution_count": null,
   "metadata": {},
   "outputs": [],
   "source": [
    "# Instantiating data generators that will augment the data\n",
    "black_rot_datagen = ImageDataGenerator(preprocessing_function=normalize,\n",
    "                                       zoom_range=0.33,\n",
    "                                       horizontal_flip=True,\n",
    "                                       vertical_flip=True,\n",
    "                                       rotation_range=360,\n",
    "                                       brightness_range=[0.5,1.5],\n",
    "                                       shear_range=7.5)\n",
    "\n",
    "esca_datagen = ImageDataGenerator(preprocessing_function=normalize,\n",
    "                                  zoom_range=0.33,\n",
    "                                  horizontal_flip=True,\n",
    "                                  vertical_flip=True,\n",
    "                                  rotation_range=360,\n",
    "                                  brightness_range=[0.5,1.5],\n",
    "                                  shear_range=7.5)\n",
    "\n",
    "leaf_blight_datagen = ImageDataGenerator(preprocessing_function=normalize,\n",
    "                                         zoom_range=0.33,\n",
    "                                         horizontal_flip=True,\n",
    "                                         vertical_flip=True,\n",
    "                                         rotation_range=360,\n",
    "                                         brightness_range=[0.5,1.5],\n",
    "                                         shear_range=7.5)\n",
    "\n",
    "healthy_datagen = ImageDataGenerator(preprocessing_function=normalize,\n",
    "                                     zoom_range=0.33,\n",
    "                                     horizontal_flip=True,\n",
    "                                     vertical_flip=True,\n",
    "                                     rotation_range=360,\n",
    "                                     brightness_range=[0.5,1.5],\n",
    "                                     shear_range=7.5)"
   ]
  },
  {
   "cell_type": "code",
   "execution_count": null,
   "metadata": {},
   "outputs": [],
   "source": [
    "# Having the data generators read in the data\n",
    "black_rot_datagen = black_rot_datagen.flow_from_directory('/kaggle/input/grape-disease-dataset-original/Original Data/train',\n",
    "                                                          target_size = (224,224),\n",
    "                                                          batch_size = 256,\n",
    "                                                          class_mode = 'sparse',\n",
    "                                                          classes = ['Black Rot'],\n",
    "                                                          shuffle = True,\n",
    "                                                          save_to_dir = '/kaggle/working/augmented/Black Rot')\n",
    "\n",
    "esca_datagen = esca_datagen.flow_from_directory('/kaggle/input/grape-disease-dataset-original/Original Data/train',\n",
    "                                                target_size = (224,224),\n",
    "                                                batch_size = 256,\n",
    "                                                class_mode = 'sparse',\n",
    "                                                classes = ['ESCA'],\n",
    "                                                shuffle = True,\n",
    "                                                save_to_dir = '/kaggle/working/augmented/ESCA')\n",
    "\n",
    "leaf_blight_datagen = leaf_blight_datagen.flow_from_directory('/kaggle/input/grape-disease-dataset-original/Original Data/train',\n",
    "                                                              target_size = (224,224),\n",
    "                                                              batch_size = 256,\n",
    "                                                              class_mode = 'sparse',\n",
    "                                                              classes = ['Leaf Blight'],\n",
    "                                                              shuffle = True,\n",
    "                                                              save_to_dir = '/kaggle/working/augmented/Leaf Blight')\n",
    "\n",
    "healthy_datagen = healthy_datagen.flow_from_directory('/kaggle/input/grape-disease-dataset-original/Original Data/train',\n",
    "                                                      target_size = (224,224),\n",
    "                                                      batch_size = 256,\n",
    "                                                      class_mode = 'sparse',\n",
    "                                                      classes = ['Healthy'],\n",
    "                                                      shuffle = True,\n",
    "                                                      save_to_dir = '/kaggle/working/augmented/Healthy')"
   ]
  },
  {
   "cell_type": "code",
   "execution_count": null,
   "metadata": {},
   "outputs": [],
   "source": [
    "# Getting sample augmented images\n",
    "augmented_black_rot_samples = black_rot_datagen[0][0]\n",
    "augmented_esca_samples = esca_datagen[0][0]\n",
    "augmented_leaf_blight_samples = leaf_blight_datagen[0][0]\n",
    "augmented_healthy_samples = healthy_datagen[0][0]"
   ]
  },
  {
   "cell_type": "code",
   "execution_count": null,
   "metadata": {},
   "outputs": [],
   "source": [
    "# Initializing subplots \n",
    "fig, ax = plt.subplots(nrows=2,ncols=n_images,figsize=(7.5,2.25), dpi=96)\n",
    "# Iterating over total number of images\n",
    "for i in range(16):\n",
    "    if i < n_images:\n",
    "        # Getting the image's pixel values\n",
    "        img = plt.imread(samples[i-32])\n",
    "        # Plotting the image\n",
    "        ax[i//n_images, i%n_images].imshow(img, cmap='gray')\n",
    "        # Adding the title\n",
    "        ax[i//n_images, i%n_images].set_title(\"Original\", fontsize=12)\n",
    "    else:\n",
    "        # Getting the image's pixel values\n",
    "        img = augmented_black_rot_samples[i]\n",
    "        # Plotting the image\n",
    "        ax[i//n_images, i%n_images].imshow(img, cmap='gray')\n",
    "        # Adding the title\n",
    "        ax[i//n_images, i%n_images].set_title(\"Augmented\", fontsize=8.5)\n",
    "    # Getting rid of the axes\n",
    "    ax[i//n_images, i%n_images].axis('off')\n",
    "    # Setting the aspect ratio to 1\n",
    "    ax[i//n_images, i%n_images].set_aspect(aspect=1)\n",
    "# Displaying the plot\n",
    "plt.show()"
   ]
  },
  {
   "cell_type": "code",
   "execution_count": null,
   "metadata": {},
   "outputs": [],
   "source": [
    "# Initializing subplots \n",
    "fig, ax = plt.subplots(nrows=2,ncols=n_images,figsize=(7.5,2.25), dpi=96)\n",
    "# Iterating over total number of images\n",
    "for i in range(16):\n",
    "    if i < n_images:\n",
    "        # Getting the image's pixel values\n",
    "        img = plt.imread(samples[i-24])\n",
    "        # Plotting the image\n",
    "        ax[i//n_images, i%n_images].imshow(img, cmap='gray')\n",
    "        # Adding the title\n",
    "        ax[i//n_images, i%n_images].set_title(\"Original\", fontsize=12)\n",
    "    else:\n",
    "        # Getting the image's pixel values\n",
    "        img = augmented_esca_samples[i]\n",
    "        # Plotting the image\n",
    "        ax[i//n_images, i%n_images].imshow(img, cmap='gray')\n",
    "        # Adding the title\n",
    "        ax[i//n_images, i%n_images].set_title(\"Augmented\", fontsize=8.5)\n",
    "    # Getting rid of the axes\n",
    "    ax[i//n_images, i%n_images].axis('off')\n",
    "    # Setting the aspect ratio to 1\n",
    "    ax[i//n_images, i%n_images].set_aspect(aspect=1)\n",
    "# Displaying the plot\n",
    "plt.show()"
   ]
  },
  {
   "cell_type": "code",
   "execution_count": null,
   "metadata": {},
   "outputs": [],
   "source": [
    "# Initializing subplots \n",
    "fig, ax = plt.subplots(nrows=2,ncols=n_images,figsize=(7.5,2.25), dpi=96)\n",
    "# Iterating over total number of images\n",
    "for i in range(16):\n",
    "    if i < n_images:\n",
    "        # Getting the image's pixel values\n",
    "        img = plt.imread(samples[i-16])\n",
    "        # Plotting the image\n",
    "        ax[i//n_images, i%n_images].imshow(img, cmap='gray')\n",
    "        # Adding the title\n",
    "        ax[i//n_images, i%n_images].set_title(\"Original\", fontsize=12)\n",
    "    else:\n",
    "        # Getting the image's pixel values\n",
    "        img = augmented_leaf_blight_samples[i]\n",
    "        # Plotting the image\n",
    "        ax[i//n_images, i%n_images].imshow(img, cmap='gray')\n",
    "        # Adding the title\n",
    "        ax[i//n_images, i%n_images].set_title(\"Augmented\", fontsize=8.5)\n",
    "    # Getting rid of the axes\n",
    "    ax[i//n_images, i%n_images].axis('off')\n",
    "    # Setting the aspect ratio to 1\n",
    "    ax[i//n_images, i%n_images].set_aspect(aspect=1)\n",
    "# Displaying the plot\n",
    "plt.show()"
   ]
  },
  {
   "cell_type": "code",
   "execution_count": null,
   "metadata": {},
   "outputs": [],
   "source": [
    "# Initializing subplots \n",
    "fig, ax = plt.subplots(nrows=2,ncols=n_images,figsize=(7.5,2.25), dpi=96)\n",
    "# Iterating over total number of images\n",
    "for i in range(16):\n",
    "    if i < n_images:\n",
    "        # Getting the image's pixel values\n",
    "        img = plt.imread(samples[i-8])\n",
    "        # Plotting the image\n",
    "        ax[i//n_images, i%n_images].imshow(img, cmap='gray')\n",
    "        # Adding the title\n",
    "        ax[i//n_images, i%n_images].set_title(\"Original\", fontsize=12)\n",
    "    else:\n",
    "        # Getting the image's pixel values\n",
    "        img = augmented_healthy_samples[i]\n",
    "        # Plotting the image\n",
    "        ax[i//n_images, i%n_images].imshow(img, cmap='gray')\n",
    "        # Adding the title\n",
    "        ax[i//n_images, i%n_images].set_title(\"Augmented\", fontsize=8.5)\n",
    "    # Getting rid of the axes\n",
    "    ax[i//n_images, i%n_images].axis('off')\n",
    "    # Setting the aspect ratio to 1\n",
    "    ax[i//n_images, i%n_images].set_aspect(aspect=1)\n",
    "# Displaying the plot\n",
    "plt.show()"
   ]
  },
  {
   "cell_type": "code",
   "execution_count": null,
   "metadata": {},
   "outputs": [],
   "source": [
    "# Augmenting data\n",
    "if augment_data == True:\n",
    "    for j in range(2):\n",
    "        for i in range(24):\n",
    "            black_rot_datagen[0][0][i]\n",
    "        for i in range(24):\n",
    "            ESCA_datagen[0][0][i]\n",
    "        for i in range(24):\n",
    "            leaf_blight_datagen[0][0][i]\n",
    "        for i in range(24):\n",
    "            healthy_datagen[0][0][i]"
   ]
  }
 ],
 "metadata": {
  "kernelspec": {
   "display_name": "Python 3 (ipykernel)",
   "language": "python",
   "name": "python3"
  },
  "language_info": {
   "codemirror_mode": {
    "name": "ipython",
    "version": 3
   },
   "file_extension": ".py",
   "mimetype": "text/x-python",
   "name": "python",
   "nbconvert_exporter": "python",
   "pygments_lexer": "ipython3",
   "version": "3.9.5"
  }
 },
 "nbformat": 4,
 "nbformat_minor": 4
}
